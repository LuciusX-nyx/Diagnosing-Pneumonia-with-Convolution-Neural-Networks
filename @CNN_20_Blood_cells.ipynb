{
 "cells": [
  {
   "cell_type": "code",
   "execution_count": 1,
   "metadata": {},
   "outputs": [],
   "source": [
    "%matplotlib inline\n",
    "import matplotlib.pyplot as plt\n",
    "import numpy as np\n",
    "import torch\n",
    "import torchvision\n",
    "import torchvision.transforms as transforms\n",
    "import torch.nn as nn\n",
    "import torch.nn.functional as F\n",
    "import torch.optim as optim\n",
    "import PIL.Image as Image\n",
    "import torchvision.models as models\n",
    "import zipfile\n",
    "import time\n",
    "import copy\n",
    "import random"
   ]
  },
  {
   "cell_type": "code",
   "execution_count": 2,
   "metadata": {},
   "outputs": [],
   "source": [
    "\n",
    "    \n",
    "data_path = './data/blood-cells/dataset2-master/images/'"
   ]
  },
  {
   "cell_type": "code",
   "execution_count": 3,
   "metadata": {},
   "outputs": [],
   "source": [
    "# The function to show an image\n",
    "def imshow(img, title=None):\n",
    "    plt.figure(figsize = (4, 4))\n",
    "    plt.imshow(img)\n",
    "    plt.title(title)\n",
    "    plt.pause(0.001)\n",
    "\n",
    "# # Show an image of normal chest.\n",
    "# image_nor = Image.open(data_path + 'train/NORMAL/IM-0115-0001.jpeg')\n",
    "# imshow(image_nor, title = 'Normal')\n",
    "\n",
    "# # Show an image of a pneumonia.\n",
    "# image_pneu = Image.open(data_path + 'train/PNEUMONIA/person1_bacteria_1.jpeg')\n",
    "# imshow(image_pneu, title = 'Pneumonia')"
   ]
  },
  {
   "cell_type": "code",
   "execution_count": 4,
   "metadata": {},
   "outputs": [
    {
     "name": "stdout",
     "output_type": "stream",
     "text": [
      "['EOSINOPHIL', 'LYMPHOCYTE', 'MONOCYTE', 'NEUTROPHIL']\n"
     ]
    }
   ],
   "source": [
    "#Prepare for dataset\n",
    "mean = [0.485, 0.456, 0.406]\n",
    "std = [0.229, 0.224, 0.225]\n",
    "batch_size = 4\n",
    "\n",
    "transform = transforms.Compose([transforms.Resize(256), transforms.RandomResizedCrop(227), transforms.ToTensor(), transforms.Normalize(mean=mean, std=std)])\n",
    "\n",
    "trainset = torchvision.datasets.ImageFolder(root=data_path+'TRAIN', transform=transform)\n",
    "trainloader = torch.utils.data.DataLoader(trainset, batch_size = batch_size, shuffle = True)\n",
    "\n",
    "valset = torchvision.datasets.ImageFolder(root=data_path+'TEST_SIMPLE', transform=transform)\n",
    "valloader = torch.utils.data.DataLoader(valset, batch_size = 1, shuffle = True)\n",
    "\n",
    "testset = torchvision.datasets.ImageFolder(root=data_path+'TEST', transform=transform)\n",
    "testloader = torch.utils.data.DataLoader(testset, batch_size = batch_size, shuffle = True)\n",
    "\n",
    "classes = trainset.classes\n",
    "print(classes)"
   ]
  },
  {
   "cell_type": "code",
   "execution_count": 5,
   "metadata": {},
   "outputs": [],
   "source": [
    "dataloaders = {'train': trainloader, 'val': valloader}\n",
    "dataset_sizes = {'train': len(trainset), 'val': len(valset)}"
   ]
  },
  {
   "cell_type": "code",
   "execution_count": 6,
   "metadata": {},
   "outputs": [
    {
     "data": {
      "image/png": "[encoded data removed]",
      "text/plain": [
       "<Figure size 432x288 with 1 Axes>"
      ]
     },
     "metadata": {
      "needs_background": "light"
     },
     "output_type": "display_data"
    }
   ],
   "source": [
    "# The function to show a tensor image.    \n",
    "def imshow_tensor(img, title = None):\n",
    "    # Set a three channels image.\n",
    "    img = img.numpy().transpose((1, 2, 0))   \n",
    "    \n",
    "    # Unnormalize.\n",
    "    img = img / 2 + 0.5\n",
    "    \n",
    "    # Clipping input data to the valid range for imshow with RGB data ([0..1] for floats or [0..255] for integers).\n",
    "    img = np.clip(img, 0, 1)\n",
    "    \n",
    "    # Print label.\n",
    "    plt.title(title)\n",
    "    \n",
    "    plt.imshow(img)\n",
    "    plt.show()\n",
    "\n",
    "# Get some random training images.\n",
    "dataiter = iter(trainloader)\n",
    "images, label = next(dataiter)\n",
    "# Show images.\n",
    "imshow_tensor(torchvision.utils.make_grid(images), title = [classes[label[j]] for j in range(batch_size)])\n"
   ]
  },
  {
   "cell_type": "code",
   "execution_count": 7,
   "metadata": {},
   "outputs": [],
   "source": [
    "# trainiter = iter(trainloader)\n",
    "# features, labels = next(trainiter)\n",
    "# print(features.shape)\n",
    "# print(labels.shape)"
   ]
  },
  {
   "cell_type": "code",
   "execution_count": 8,
   "metadata": {},
   "outputs": [
    {
     "name": "stdout",
     "output_type": "stream",
     "text": [
      "cuda:0\n",
      "GeForce GTX 970M\n",
      "Memory Usage:\n",
      "Allocated: 0.0 GB\n",
      "Cached:    0.0 GB\n"
     ]
    }
   ],
   "source": [
    "#choose a device\n",
    "# If there are GPUs, choose the first one for computing. Otherwise use CPU.\n",
    "device = torch.device(\"cuda:0\" if torch.cuda.is_available() else \"cpu\")\n",
    "print(device)  \n",
    "# If 'cuda:0' is printed, it means GPU is available.\n",
    "\n",
    "#Additional Info when using cuda\n",
    "if device.type == 'cuda':\n",
    "    print(torch.cuda.get_device_name(0))\n",
    "    print('Memory Usage:')\n",
    "    print('Allocated:', round(torch.cuda.memory_allocated(0)/1024**3,1), 'GB')\n",
    "    print('Cached:   ', round(torch.cuda.memory_cached(0)/1024**3,1), 'GB')"
   ]
  },
  {
   "cell_type": "code",
   "execution_count": 9,
   "metadata": {},
   "outputs": [],
   "source": [
    "\n",
    "avg_losses = []"
   ]
  },
  {
   "cell_type": "code",
   "execution_count": 10,
   "metadata": {},
   "outputs": [],
   "source": [
    "def train_model(model, criterion, optimizer, scheduler, num_epochs=25):\n",
    "    since = time.time()\n",
    "\n",
    "    best_model_wts = copy.deepcopy(model.state_dict())\n",
    "    best_acc = 0.0\n",
    "\n",
    "    for epoch in range(num_epochs):\n",
    "        print('Epoch {}/{}'.format(epoch, num_epochs - 1))\n",
    "        print('-' * 10)\n",
    "\n",
    "        # Each epoch has a training and validation phase\n",
    "        for phase in ['train', 'val']:\n",
    "            if phase == 'train':\n",
    "                scheduler.step()\n",
    "                model.train()  # Set model to training mode\n",
    "            else:\n",
    "                model.eval()   # Set model to evaluate mode\n",
    "\n",
    "            running_loss = 0.0\n",
    "            running_corrects = 0\n",
    "\n",
    "            # Iterate over data.\n",
    "            for inputs, labels in dataloaders[phase]:\n",
    "                inputs = inputs.to(device)\n",
    "                labels = labels.to(device)\n",
    "\n",
    "                # zero the parameter gradients\n",
    "                optimizer.zero_grad()\n",
    "\n",
    "                # forward\n",
    "                # track history if only in train\n",
    "                with torch.set_grad_enabled(phase == 'train'):\n",
    "                    outputs = model(inputs)\n",
    "                    _, preds = torch.max(outputs, 1)\n",
    "                    loss = criterion(outputs, labels)\n",
    "\n",
    "                    # backward + optimize only if in training phase\n",
    "                    if phase == 'train':\n",
    "                        loss.backward()\n",
    "                        optimizer.step()\n",
    "\n",
    "                # statistics\n",
    "                running_loss += loss.item() * inputs.size(0)\n",
    "                running_corrects += torch.sum(preds == labels.data)\n",
    "\n",
    "            epoch_loss = running_loss / dataset_sizes[phase]\n",
    "            epoch_acc = running_corrects.double() / dataset_sizes[phase]\n",
    "            if phase == 'train':\n",
    "                avg_losses.append(epoch_loss)\n",
    "\n",
    "            print('{} Loss: {:.4f} Acc: {:.4f}'.format(\n",
    "                phase, epoch_loss, epoch_acc))\n",
    "\n",
    "            # deep copy the model\n",
    "            if phase == 'val' and epoch_acc > best_acc:\n",
    "                best_acc = epoch_acc\n",
    "                best_model_wts = copy.deepcopy(model.state_dict())\n",
    "\n",
    "        print()\n",
    "\n",
    "    time_elapsed = time.time() - since\n",
    "    print('Training complete in {:.0f}m {:.0f}s'.format(\n",
    "        time_elapsed // 60, time_elapsed % 60))\n",
    "    print('Best val Acc: {:4f}'.format(best_acc))\n",
    "\n",
    "    # load best model weights\n",
    "    model.load_state_dict(best_model_wts)\n",
    "    return model"
   ]
  },
  {
   "cell_type": "code",
   "execution_count": 11,
   "metadata": {},
   "outputs": [],
   "source": [
    "class Net(nn.Module):\n",
    "    def __init__(self):\n",
    "        super(Net, self).__init__()\n",
    "        \n",
    "        self.conv_block1 = nn.Sequential(\n",
    "            nn.Conv2d(in_channels=3, out_channels=32, kernel_size=5, stride=2, padding=2),\n",
    "            nn.Conv2d(in_channels=32, out_channels=32, kernel_size=5, stride=1, padding=1),\n",
    "            nn.ReLU(),\n",
    "            nn.AvgPool2d(kernel_size=2, stride=2),\n",
    "            nn.BatchNorm2d(32))\n",
    "        \n",
    "        self.conv_block2 = nn.Sequential(\n",
    "            nn.Conv2d(in_channels=32, out_channels=64, kernel_size=3, stride=1, padding=1),\n",
    "            nn.ReLU(),\n",
    "            nn.AvgPool2d(kernel_size=2, stride=2),\n",
    "            nn.BatchNorm2d(64))\n",
    "        \n",
    "        self.conv_block3 = nn.Sequential(\n",
    "            nn.Conv2d(in_channels=64, out_channels=128, kernel_size=3, stride=1, padding=1),\n",
    "            nn.ReLU(),\n",
    "            nn.AvgPool2d(kernel_size=2, stride=2),\n",
    "            nn.BatchNorm2d(128))\n",
    "        \n",
    "        self.conv_block4 = nn.Sequential(\n",
    "            nn.Conv2d(in_channels=128, out_channels=256, kernel_size=3, stride=1, padding=1),\n",
    "            nn.ReLU(),\n",
    "            nn.AvgPool2d(kernel_size=2, stride=2),\n",
    "            nn.BatchNorm2d(256))\n",
    "        \n",
    "        self.fc = nn.Sequential(\n",
    "            nn.Dropout(p=0.5),\n",
    "            nn.Linear(256*7*7, 100),\n",
    "            nn.ReLU(),\n",
    "            nn.Dropout(p=0.5),\n",
    "            nn.Linear(100, 4),\n",
    "            nn.LogSigmoid())\n",
    "\n",
    "    def forward(self, x):\n",
    "        x = self.conv_block1(x)\n",
    "        x = self.conv_block2(x)\n",
    "        x = self.conv_block3(x)\n",
    "        x = self.conv_block4(x)\n",
    "        x = x.view(x.size(0), -1)\n",
    "        x = self.fc(x)\n",
    "        return x"
   ]
  },
  {
   "cell_type": "code",
   "execution_count": 12,
   "metadata": {},
   "outputs": [],
   "source": [
    "def visualize_model(model, num_images=6):\n",
    "    was_training = model.training\n",
    "    model.eval()\n",
    "    images_so_far = 0\n",
    "    fig = plt.figure()\n",
    "\n",
    "    with torch.no_grad():\n",
    "        for i, (inputs, labels) in enumerate(dataloaders['val']):\n",
    "            inputs = inputs.to(device)\n",
    "            labels = labels.to(device)\n",
    "\n",
    "            outputs = model(inputs)\n",
    "            _, preds = torch.max(outputs, 1)\n",
    "\n",
    "            for j in range(inputs.size()[0]):\n",
    "                images_so_far += 1\n",
    "                ax = plt.subplot(num_images//2, 2, images_so_far)\n",
    "                ax.axis('off')\n",
    "                imshow_tensor(inputs.cpu().data[j], title=[classes[labels[j]]])\n",
    "                print('predicted: {}'.format(classes[preds[j]]))\n",
    "\n",
    "                if images_so_far == num_images:\n",
    "                    model.train(mode=was_training)\n",
    "                    return\n",
    "        model.train(mode=was_training)"
   ]
  },
  {
   "cell_type": "code",
   "execution_count": 13,
   "metadata": {},
   "outputs": [],
   "source": [
    "model_ft = Net()   # Create the network instance.\n",
    "\n",
    "model_ft.to(device)  # Move the network parameters to the specified device.\n",
    "\n",
    "model_ft = model_ft.to(device)\n",
    "\n",
    "criterion = nn.CrossEntropyLoss()\n",
    "\n",
    "# Observe that all parameters are being optimized\n",
    "optimizer_ft = optim.SGD(model_ft.parameters(), lr=0.001, momentum=0.9)\n",
    "\n",
    "# Decay LR by a factor of 0.1 every 7 epochs\n",
    "exp_lr_scheduler = optim.lr_scheduler.StepLR(optimizer_ft, step_size=7, gamma=0.1)"
   ]
  },
  {
   "cell_type": "code",
   "execution_count": 14,
   "metadata": {},
   "outputs": [
    {
     "name": "stdout",
     "output_type": "stream",
     "text": [
      "Epoch 0/20\n",
      "----------\n",
      "train Loss: 1.3215 Acc: 0.3691\n",
      "val Loss: 1.6302 Acc: 0.1408\n",
      "\n",
      "Epoch 1/20\n",
      "----------\n",
      "train Loss: 1.2360 Acc: 0.4439\n",
      "val Loss: 1.0822 Acc: 0.2535\n",
      "\n",
      "Epoch 2/20\n",
      "----------\n",
      "train Loss: 1.1473 Acc: 0.5029\n",
      "val Loss: 5.0997 Acc: 0.0563\n",
      "\n",
      "Epoch 3/20\n",
      "----------\n",
      "train Loss: 1.0159 Acc: 0.5591\n",
      "val Loss: 0.9224 Acc: 0.6197\n",
      "\n",
      "Epoch 4/20\n",
      "----------\n",
      "train Loss: 0.9136 Acc: 0.6086\n",
      "val Loss: 1.7338 Acc: 0.3521\n",
      "\n",
      "Epoch 5/20\n",
      "----------\n",
      "train Loss: 0.8385 Acc: 0.6471\n",
      "val Loss: 2.1523 Acc: 0.2254\n",
      "\n",
      "Epoch 6/20\n",
      "----------\n",
      "train Loss: 0.6778 Acc: 0.7107\n",
      "val Loss: 0.7551 Acc: 0.6479\n",
      "\n",
      "Epoch 7/20\n",
      "----------\n",
      "train Loss: 0.6516 Acc: 0.7231\n",
      "val Loss: 0.7397 Acc: 0.7183\n",
      "\n",
      "Epoch 8/20\n",
      "----------\n",
      "train Loss: 0.6198 Acc: 0.7333\n",
      "val Loss: 0.5599 Acc: 0.7746\n",
      "\n",
      "Epoch 9/20\n",
      "----------\n",
      "train Loss: 0.5912 Acc: 0.7484\n",
      "val Loss: 0.6009 Acc: 0.7465\n",
      "\n",
      "Epoch 10/20\n",
      "----------\n",
      "train Loss: 0.5790 Acc: 0.7539\n",
      "val Loss: 0.7448 Acc: 0.6901\n",
      "\n",
      "Epoch 11/20\n",
      "----------\n",
      "train Loss: 0.5793 Acc: 0.7545\n",
      "val Loss: 0.6295 Acc: 0.7606\n",
      "\n",
      "Epoch 12/20\n",
      "----------\n",
      "train Loss: 0.5582 Acc: 0.7604\n",
      "val Loss: 0.5966 Acc: 0.7042\n",
      "\n",
      "Epoch 13/20\n",
      "----------\n",
      "train Loss: 0.5514 Acc: 0.7646\n",
      "val Loss: 0.5803 Acc: 0.7746\n",
      "\n",
      "Epoch 14/20\n",
      "----------\n",
      "train Loss: 0.5359 Acc: 0.7699\n",
      "val Loss: 0.5101 Acc: 0.7887\n",
      "\n",
      "Epoch 15/20\n",
      "----------\n",
      "train Loss: 0.5494 Acc: 0.7686\n",
      "val Loss: 0.8163 Acc: 0.6901\n",
      "\n",
      "Epoch 16/20\n",
      "----------\n",
      "train Loss: 0.5311 Acc: 0.7754\n",
      "val Loss: 0.5120 Acc: 0.7606\n",
      "\n",
      "Epoch 17/20\n",
      "----------\n",
      "train Loss: 0.5308 Acc: 0.7735\n",
      "val Loss: 0.6828 Acc: 0.7324\n",
      "\n",
      "Epoch 18/20\n",
      "----------\n",
      "train Loss: 0.5309 Acc: 0.7741\n",
      "val Loss: 0.5544 Acc: 0.7183\n",
      "\n",
      "Epoch 19/20\n",
      "----------\n",
      "train Loss: 0.5266 Acc: 0.7795\n",
      "val Loss: 0.6756 Acc: 0.7183\n",
      "\n",
      "Epoch 20/20\n",
      "----------\n",
      "train Loss: 0.5430 Acc: 0.7685\n",
      "val Loss: 0.5373 Acc: 0.7324\n",
      "\n",
      "Training complete in 31m 21s\n",
      "Best val Acc: 0.788732\n"
     ]
    }
   ],
   "source": [
    "model_ft = train_model(model_ft, criterion, optimizer_ft, exp_lr_scheduler,\n",
    "                       num_epochs=21)"
   ]
  },
  {
   "cell_type": "code",
   "execution_count": 15,
   "metadata": {},
   "outputs": [
    {
     "data": {
      "image/png": "[encoded data removed]",
      "text/plain": [
       "<Figure size 432x288 with 1 Axes>"
      ]
     },
     "metadata": {
      "needs_background": "light"
     },
     "output_type": "display_data"
    },
    {
     "name": "stdout",
     "output_type": "stream",
     "text": [
      "predicted: NEUTROPHIL\n"
     ]
    },
    {
     "data": {
      "image/png": "[encoded data removed]",
      "text/plain": [
       "<Figure size 432x288 with 1 Axes>"
      ]
     },
     "metadata": {
      "needs_background": "light"
     },
     "output_type": "display_data"
    },
    {
     "name": "stdout",
     "output_type": "stream",
     "text": [
      "predicted: NEUTROPHIL\n"
     ]
    },
    {
     "data": {
      "image/png": "[encoded data removed]",
      "text/plain": [
       "<Figure size 432x288 with 1 Axes>"
      ]
     },
     "metadata": {
      "needs_background": "light"
     },
     "output_type": "display_data"
    },
    {
     "name": "stdout",
     "output_type": "stream",
     "text": [
      "predicted: EOSINOPHIL\n"
     ]
    },
    {
     "data": {
      "image/png": "[encoded data removed]",
      "text/plain": [
       "<Figure size 432x288 with 1 Axes>"
      ]
     },
     "metadata": {
      "needs_background": "light"
     },
     "output_type": "display_data"
    },
    {
     "name": "stdout",
     "output_type": "stream",
     "text": [
      "predicted: NEUTROPHIL\n"
     ]
    },
    {
     "data": {
      "image/png": "[encoded data removed]",
      "text/plain": [
       "<Figure size 432x288 with 1 Axes>"
      ]
     },
     "metadata": {
      "needs_background": "light"
     },
     "output_type": "display_data"
    },
    {
     "name": "stdout",
     "output_type": "stream",
     "text": [
      "predicted: NEUTROPHIL\n"
     ]
    },
    {
     "data": {
      "image/png": "[encoded data removed]",
      "text/plain": [
       "<Figure size 432x288 with 1 Axes>"
      ]
     },
     "metadata": {
      "needs_background": "light"
     },
     "output_type": "display_data"
    },
    {
     "name": "stdout",
     "output_type": "stream",
     "text": [
      "predicted: EOSINOPHIL\n"
     ]
    }
   ],
   "source": [
    "visualize_model(model_ft)"
   ]
  },
  {
   "cell_type": "code",
   "execution_count": 16,
   "metadata": {},
   "outputs": [
    {
     "data": {
      "image/png": "[encoded data removed]",
      "text/plain": [
       "<Figure size 432x288 with 1 Axes>"
      ]
     },
     "metadata": {
      "needs_background": "light"
     },
     "output_type": "display_data"
    }
   ],
   "source": [
    "plt.plot(avg_losses)\n",
    "plt.xlabel('epoch index / {}'.format(21))\n",
    "plt.ylabel('avg. mini-batch loss')\n",
    "plt.show()"
   ]
  },
  {
   "cell_type": "code",
   "execution_count": 17,
   "metadata": {},
   "outputs": [
    {
     "data": {
      "image/png": "[encoded data removed]",
      "text/plain": [
       "<Figure size 432x288 with 1 Axes>"
      ]
     },
     "metadata": {
      "needs_background": "light"
     },
     "output_type": "display_data"
    },
    {
     "name": "stdout",
     "output_type": "stream",
     "text": [
      "Predicted:  NEUTROPHIL MONOCYTE MONOCYTE EOSINOPHIL\n"
     ]
    }
   ],
   "source": [
    "# Check several images.\n",
    "dataiter = iter(testloader)\n",
    "images, labels = dataiter.next()\n",
    "imshow_tensor(torchvision.utils.make_grid(images), title = [classes[labels[j]] for j in range(batch_size)])\n",
    "outputs = model_ft(images.to(device))\n",
    "_, predicted = torch.max(outputs, 1)\n",
    "\n",
    "print('Predicted: ', ' '.join('%5s' % classes[predicted[j]]\n",
    "                              for j in range(batch_size)))"
   ]
  },
  {
   "cell_type": "code",
   "execution_count": 18,
   "metadata": {},
   "outputs": [
    {
     "name": "stdout",
     "output_type": "stream",
     "text": [
      "Accuracy of the network on the test images: 71 %\n"
     ]
    }
   ],
   "source": [
    "# Get test accuracy.\n",
    "correct = 0\n",
    "total = 0\n",
    "class_correct = list(0. for i in range(4))\n",
    "class_total = list(0. for i in range(4))\n",
    "with torch.no_grad():\n",
    "    for data in testloader:\n",
    "        images, labels = data\n",
    "        images, labels = images.to(device), labels.to(device)\n",
    "        outputs = model_ft(images)\n",
    "        _, predicted = torch.max(outputs.data, 1)\n",
    "        total += labels.size(0)\n",
    "        correct += (predicted == labels).sum().item()\n",
    "\n",
    "print('Accuracy of the network on the test images: %d %%' % (\n",
    "    100 * correct / total))"
   ]
  },
  {
   "cell_type": "code",
   "execution_count": 21,
   "metadata": {},
   "outputs": [
    {
     "name": "stdout",
     "output_type": "stream",
     "text": [
      "tensor([[11.,  0.,  0.,  2.],\n",
      "        [ 0.,  6.,  0.,  0.],\n",
      "        [ 0.,  0.,  3.,  1.],\n",
      "        [ 8.,  0.,  2., 38.]])\n"
     ]
    }
   ],
   "source": [
    "confusion_matrix = torch.zeros(4, 4)\n",
    "with torch.no_grad():\n",
    "    for i, (inputs, classes) in enumerate(dataloaders['val']):\n",
    "        inputs = inputs.to(device)\n",
    "        classes = classes.to(device)\n",
    "        outputs = model_ft(inputs)\n",
    "        _, preds = torch.max(outputs, 1)\n",
    "        for t, p in zip(classes.view(-1), preds.view(-1)):\n",
    "                confusion_matrix[t.long(), p.long()] += 1\n",
    "\n",
    "print(confusion_matrix)"
   ]
  },
  {
   "cell_type": "code",
   "execution_count": null,
   "metadata": {},
   "outputs": [],
   "source": []
  }
 ],
 "metadata": {
  "kernelspec": {
   "display_name": "Python 3",
   "language": "python",
   "name": "python3"
  },
  "language_info": {
   "codemirror_mode": {
    "name": "ipython",
    "version": 3
   },
   "file_extension": ".py",
   "mimetype": "text/x-python",
   "name": "python",
   "nbconvert_exporter": "python",
   "pygments_lexer": "ipython3",
   "version": "3.7.3"
  }
 },
 "nbformat": 4,
 "nbformat_minor": 2
}
